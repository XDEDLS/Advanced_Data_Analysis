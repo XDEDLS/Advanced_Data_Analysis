{
 "cells": [
  {
   "cell_type": "code",
   "execution_count": 2,
   "metadata": {
    "collapsed": true
   },
   "outputs": [],
   "source": [
    "import os\n",
    "import numpy as np\n",
    "import pandas as pd\n",
    "import geopandas as gpd"
   ]
  },
  {
   "cell_type": "code",
   "execution_count": 5,
   "outputs": [],
   "source": [
    "file = 'E:\\data\\european_cities_network\\BE\\BE_11001.parquet'\n",
    "gdf = gpd.read_parquet(file)"
   ],
   "metadata": {
    "collapsed": false
   }
  },
  {
   "cell_type": "code",
   "execution_count": 13,
   "outputs": [
    {
     "data": {
      "text/plain": "                  u           v  \\\nedge_id                           \n4462       36705298    34675856   \n7        1977621206  8025420595   \n4463     1977621206    36705298   \n4842     1977621206  1977621226   \n8        8025420595    36705303   \n...             ...         ...   \n4296     7807682340  7807682345   \n4294     7807682321  7807476620   \n4300     7807682321    60951517   \n5291     7807682321  7807682340   \n5292     7807682321  7807682345   \n\n                                                      path     osm_id  \\\nedge_id                                                                 \n4462                        [36705298, 36705297, 34675856]    5218134   \n7                                 [1977621206, 8025420595]    5218134   \n4463     [1977621206, 36705301, 5143114855, 36705300, 5...    5218134   \n4842     [1977621206, 5143114860, 1977621202, 197762120...  187006300   \n8                                   [8025420595, 36705303]    5218134   \n...                                                    ...        ...   \n4296                              [7807682340, 7807682345]  836527759   \n4294                              [7807682321, 7807476620]  836527758   \n4300                                [7807682321, 60951517]  836527760   \n5291                  [7807682321, 2108572609, 7807682340]  836527758   \n5292      [7807682321, 7807682341, 7807705545, 7807682345]  836527760   \n\n          highway  level  lanes  width  bicycle  bicycle_safety  foot  \\\nedge_id                                                                 \n4462     tertiary      4      2    6.0        1               3     1   \n7        tertiary      4      2    6.0        1               3     1   \n4463     tertiary      4      2    6.0        1               3     1   \n4842      service      2      1    1.5        1               1     1   \n8        tertiary      4      2    6.0        1               3     1   \n...           ...    ...    ...    ...      ...             ...   ...   \n4296     tertiary      4      1    3.0        1               1     1   \n4294      footway      2      1    1.5        0              -1     1   \n4300     tertiary      4      1    3.0        1               1     1   \n5291      footway      2      1    1.5        0              -1     1   \n5292     tertiary      4      1    3.0        1               1     1   \n\n         foot_safety  max_speed  motorcar  \\\nedge_id                                     \n4462               0         50         1   \n7                  0         50         1   \n4463               0         50         1   \n4842               1         -1         1   \n8                  0         50         1   \n...              ...        ...       ...   \n4296               1         50         1   \n4294               3         -1         0   \n4300               1         50         1   \n5291               3         -1         0   \n5292               1         50         1   \n\n                                                  geometry  \nedge_id                                                     \n4462     LINESTRING (1797562.649 9328941.350, 1797561.3...  \n7        LINESTRING (1797523.259 9328768.950, 1797524.8...  \n4463     LINESTRING (1797556.351 9328883.109, 1797538.2...  \n4842     LINESTRING (1797616.765 9328718.846, 1797610.7...  \n8        LINESTRING (1797524.865 9328742.461, 1797527.1...  \n...                                                    ...  \n4296     LINESTRING (1797638.927 9327676.381, 1797665.8...  \n4294     LINESTRING (1797641.873 9327682.857, 1797643.9...  \n4300     LINESTRING (1797641.873 9327682.857, 1797624.8...  \n5291     LINESTRING (1797638.927 9327676.381, 1797640.3...  \n5292     LINESTRING (1797665.865 9327665.544, 1797650.4...  \n\n[1616 rows x 15 columns]",
      "text/html": "<div>\n<style scoped>\n    .dataframe tbody tr th:only-of-type {\n        vertical-align: middle;\n    }\n\n    .dataframe tbody tr th {\n        vertical-align: top;\n    }\n\n    .dataframe thead th {\n        text-align: right;\n    }\n</style>\n<table border=\"1\" class=\"dataframe\">\n  <thead>\n    <tr style=\"text-align: right;\">\n      <th></th>\n      <th>u</th>\n      <th>v</th>\n      <th>path</th>\n      <th>osm_id</th>\n      <th>highway</th>\n      <th>level</th>\n      <th>lanes</th>\n      <th>width</th>\n      <th>bicycle</th>\n      <th>bicycle_safety</th>\n      <th>foot</th>\n      <th>foot_safety</th>\n      <th>max_speed</th>\n      <th>motorcar</th>\n      <th>geometry</th>\n    </tr>\n    <tr>\n      <th>edge_id</th>\n      <th></th>\n      <th></th>\n      <th></th>\n      <th></th>\n      <th></th>\n      <th></th>\n      <th></th>\n      <th></th>\n      <th></th>\n      <th></th>\n      <th></th>\n      <th></th>\n      <th></th>\n      <th></th>\n      <th></th>\n    </tr>\n  </thead>\n  <tbody>\n    <tr>\n      <th>4462</th>\n      <td>36705298</td>\n      <td>34675856</td>\n      <td>[36705298, 36705297, 34675856]</td>\n      <td>5218134</td>\n      <td>tertiary</td>\n      <td>4</td>\n      <td>2</td>\n      <td>6.0</td>\n      <td>1</td>\n      <td>3</td>\n      <td>1</td>\n      <td>0</td>\n      <td>50</td>\n      <td>1</td>\n      <td>LINESTRING (1797562.649 9328941.350, 1797561.3...</td>\n    </tr>\n    <tr>\n      <th>7</th>\n      <td>1977621206</td>\n      <td>8025420595</td>\n      <td>[1977621206, 8025420595]</td>\n      <td>5218134</td>\n      <td>tertiary</td>\n      <td>4</td>\n      <td>2</td>\n      <td>6.0</td>\n      <td>1</td>\n      <td>3</td>\n      <td>1</td>\n      <td>0</td>\n      <td>50</td>\n      <td>1</td>\n      <td>LINESTRING (1797523.259 9328768.950, 1797524.8...</td>\n    </tr>\n    <tr>\n      <th>4463</th>\n      <td>1977621206</td>\n      <td>36705298</td>\n      <td>[1977621206, 36705301, 5143114855, 36705300, 5...</td>\n      <td>5218134</td>\n      <td>tertiary</td>\n      <td>4</td>\n      <td>2</td>\n      <td>6.0</td>\n      <td>1</td>\n      <td>3</td>\n      <td>1</td>\n      <td>0</td>\n      <td>50</td>\n      <td>1</td>\n      <td>LINESTRING (1797556.351 9328883.109, 1797538.2...</td>\n    </tr>\n    <tr>\n      <th>4842</th>\n      <td>1977621206</td>\n      <td>1977621226</td>\n      <td>[1977621206, 5143114860, 1977621202, 197762120...</td>\n      <td>187006300</td>\n      <td>service</td>\n      <td>2</td>\n      <td>1</td>\n      <td>1.5</td>\n      <td>1</td>\n      <td>1</td>\n      <td>1</td>\n      <td>1</td>\n      <td>-1</td>\n      <td>1</td>\n      <td>LINESTRING (1797616.765 9328718.846, 1797610.7...</td>\n    </tr>\n    <tr>\n      <th>8</th>\n      <td>8025420595</td>\n      <td>36705303</td>\n      <td>[8025420595, 36705303]</td>\n      <td>5218134</td>\n      <td>tertiary</td>\n      <td>4</td>\n      <td>2</td>\n      <td>6.0</td>\n      <td>1</td>\n      <td>3</td>\n      <td>1</td>\n      <td>0</td>\n      <td>50</td>\n      <td>1</td>\n      <td>LINESTRING (1797524.865 9328742.461, 1797527.1...</td>\n    </tr>\n    <tr>\n      <th>...</th>\n      <td>...</td>\n      <td>...</td>\n      <td>...</td>\n      <td>...</td>\n      <td>...</td>\n      <td>...</td>\n      <td>...</td>\n      <td>...</td>\n      <td>...</td>\n      <td>...</td>\n      <td>...</td>\n      <td>...</td>\n      <td>...</td>\n      <td>...</td>\n      <td>...</td>\n    </tr>\n    <tr>\n      <th>4296</th>\n      <td>7807682340</td>\n      <td>7807682345</td>\n      <td>[7807682340, 7807682345]</td>\n      <td>836527759</td>\n      <td>tertiary</td>\n      <td>4</td>\n      <td>1</td>\n      <td>3.0</td>\n      <td>1</td>\n      <td>1</td>\n      <td>1</td>\n      <td>1</td>\n      <td>50</td>\n      <td>1</td>\n      <td>LINESTRING (1797638.927 9327676.381, 1797665.8...</td>\n    </tr>\n    <tr>\n      <th>4294</th>\n      <td>7807682321</td>\n      <td>7807476620</td>\n      <td>[7807682321, 7807476620]</td>\n      <td>836527758</td>\n      <td>footway</td>\n      <td>2</td>\n      <td>1</td>\n      <td>1.5</td>\n      <td>0</td>\n      <td>-1</td>\n      <td>1</td>\n      <td>3</td>\n      <td>-1</td>\n      <td>0</td>\n      <td>LINESTRING (1797641.873 9327682.857, 1797643.9...</td>\n    </tr>\n    <tr>\n      <th>4300</th>\n      <td>7807682321</td>\n      <td>60951517</td>\n      <td>[7807682321, 60951517]</td>\n      <td>836527760</td>\n      <td>tertiary</td>\n      <td>4</td>\n      <td>1</td>\n      <td>3.0</td>\n      <td>1</td>\n      <td>1</td>\n      <td>1</td>\n      <td>1</td>\n      <td>50</td>\n      <td>1</td>\n      <td>LINESTRING (1797641.873 9327682.857, 1797624.8...</td>\n    </tr>\n    <tr>\n      <th>5291</th>\n      <td>7807682321</td>\n      <td>7807682340</td>\n      <td>[7807682321, 2108572609, 7807682340]</td>\n      <td>836527758</td>\n      <td>footway</td>\n      <td>2</td>\n      <td>1</td>\n      <td>1.5</td>\n      <td>0</td>\n      <td>-1</td>\n      <td>1</td>\n      <td>3</td>\n      <td>-1</td>\n      <td>0</td>\n      <td>LINESTRING (1797638.927 9327676.381, 1797640.3...</td>\n    </tr>\n    <tr>\n      <th>5292</th>\n      <td>7807682321</td>\n      <td>7807682345</td>\n      <td>[7807682321, 7807682341, 7807705545, 7807682345]</td>\n      <td>836527760</td>\n      <td>tertiary</td>\n      <td>4</td>\n      <td>1</td>\n      <td>3.0</td>\n      <td>1</td>\n      <td>1</td>\n      <td>1</td>\n      <td>1</td>\n      <td>50</td>\n      <td>1</td>\n      <td>LINESTRING (1797665.865 9327665.544, 1797650.4...</td>\n    </tr>\n  </tbody>\n</table>\n<p>1616 rows × 15 columns</p>\n</div>"
     },
     "execution_count": 13,
     "metadata": {},
     "output_type": "execute_result"
    }
   ],
   "source": [
    "gdf"
   ],
   "metadata": {
    "collapsed": false
   }
  },
  {
   "cell_type": "code",
   "execution_count": 20,
   "outputs": [
    {
     "data": {
      "text/plain": "edge_id\n5022     90\n3973     70\n4739     -1\n5020    120\n4818    120\n5040     -1\n5019    120\n4968     90\n4743     -1\n3974     70\nName: max_speed, dtype: int64"
     },
     "execution_count": 20,
     "metadata": {},
     "output_type": "execute_result"
    }
   ],
   "source": [
    "speed = gdf[gdf['level']==8]['max_speed']\n",
    "\n",
    "s = speed.sum()\n",
    "speed"
   ],
   "metadata": {
    "collapsed": false
   }
  },
  {
   "cell_type": "code",
   "execution_count": 17,
   "outputs": [],
   "source": [
    "level = (gdf['level']==8).sum()"
   ],
   "metadata": {
    "collapsed": false
   }
  },
  {
   "cell_type": "code",
   "execution_count": 18,
   "outputs": [
    {
     "data": {
      "text/plain": "10"
     },
     "execution_count": 18,
     "metadata": {},
     "output_type": "execute_result"
    }
   ],
   "source": [
    "level"
   ],
   "metadata": {
    "collapsed": false
   }
  },
  {
   "cell_type": "code",
   "execution_count": null,
   "outputs": [],
   "source": [],
   "metadata": {
    "collapsed": false
   }
  }
 ],
 "metadata": {
  "kernelspec": {
   "display_name": "Python 3",
   "language": "python",
   "name": "python3"
  },
  "language_info": {
   "codemirror_mode": {
    "name": "ipython",
    "version": 2
   },
   "file_extension": ".py",
   "mimetype": "text/x-python",
   "name": "python",
   "nbconvert_exporter": "python",
   "pygments_lexer": "ipython2",
   "version": "2.7.6"
  }
 },
 "nbformat": 4,
 "nbformat_minor": 0
}
